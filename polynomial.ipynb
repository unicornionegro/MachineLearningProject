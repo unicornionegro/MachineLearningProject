{
 "cells": [
  {
   "cell_type": "code",
   "execution_count": 1,
   "metadata": {},
   "outputs": [],
   "source": [
    "# Import libraries\n",
    "import pandas as pd\n",
    "import matplotlib.pyplot as plt\n",
    "import seaborn as sns\n",
    "import numpy as np\n",
    "from sklearn import metrics\n",
    "from sklearn.model_selection import cross_val_score\n",
    "from sklearn.model_selection import train_test_split\n",
    "from sklearn.linear_model import LinearRegression\n",
    "from sklearn.preprocessing import PolynomialFeatures"
   ]
  },
  {
   "cell_type": "code",
   "execution_count": 5,
   "metadata": {},
   "outputs": [
    {
     "name": "stdout",
     "output_type": "stream",
     "text": [
      "['x1', 'x2', 'x3', 'x4', 'x5', 'x1^2', 'x1 x2', 'x1 x3', 'x1 x4', 'x1 x5', 'x2^2', 'x2 x3', 'x2 x4', 'x2 x5', 'x3^2', 'x3 x4', 'x3 x5', 'x4^2', 'x4 x5', 'x5^2', 'x1^3', 'x1^2 x2', 'x1^2 x3', 'x1^2 x4', 'x1^2 x5', 'x1 x2^2', 'x1 x2 x3', 'x1 x2 x4', 'x1 x2 x5', 'x1 x3^2', 'x1 x3 x4', 'x1 x3 x5', 'x1 x4^2', 'x1 x4 x5', 'x1 x5^2', 'x2^3', 'x2^2 x3', 'x2^2 x4', 'x2^2 x5', 'x2 x3^2', 'x2 x3 x4', 'x2 x3 x5', 'x2 x4^2', 'x2 x4 x5', 'x2 x5^2', 'x3^3', 'x3^2 x4', 'x3^2 x5', 'x3 x4^2', 'x3 x4 x5', 'x3 x5^2', 'x4^3', 'x4^2 x5', 'x4 x5^2', 'x5^3']\n",
      "55\n"
     ]
    }
   ],
   "source": [
    "# Read data\n",
    "\n",
    "df = pd.read_csv('data.csv', index_col=0, nrows=100)\n",
    "df.index = np.arange(0, len(df))\n",
    "willbepredicted = pd.read_csv('data.csv', index_col=0, skiprows=range(1, 101), nrows=20)\n",
    "\n",
    "feature_cols = ['x1', 'x2', 'x3', 'x4', 'x5']\n",
    "\n",
    "X = df[feature_cols]\n",
    "y = df.Y\n",
    "x_find = willbepredicted[feature_cols]\n",
    "\n",
    "\n",
    "\n",
    "poly = PolynomialFeatures(3, include_bias=False)\n",
    "\n",
    "\n",
    "X_poly = poly.fit_transform(X)\n",
    "X_poly_feature_name = poly.get_feature_names(['x'+str(l) for l in range(1,6)])\n",
    "x_find = poly.fit_transform(x_find)\n",
    "X_find_feature_name = poly.get_feature_names(['x'+str(l) for l in range(1,6)])\n",
    "print(X_poly_feature_name)\n",
    "print(len(X_poly_feature_name))"
   ]
  },
  {
   "cell_type": "code",
   "execution_count": 6,
   "metadata": {},
   "outputs": [],
   "source": [
    "# polynomial dataframes\n",
    "df_poly = pd.DataFrame(X_poly, columns=X_poly_feature_name)\n",
    "df_poly.head()\n",
    "\n",
    "df_poly['y']=df['Y']\n",
    "df_poly.head()\n",
    "\n",
    "X_train=df_poly.drop('y',axis=1)\n",
    "y_train=df_poly['y']"
   ]
  },
  {
   "cell_type": "code",
   "execution_count": 7,
   "metadata": {},
   "outputs": [
    {
     "name": "stdout",
     "output_type": "stream",
     "text": [
      "Root-mean-square error of simple polynomial model: 5943.598869513483\n",
      "R2 value of simple polynomial model: 0.7813898787585661\n"
     ]
    }
   ],
   "source": [
    "# Polynomial model without regularization and cross-validation\n",
    "\n",
    "\n",
    "poly = LinearRegression(normalize=True)\n",
    "\n",
    "model_poly=poly.fit(X_train,y_train)\n",
    "y_poly = poly.predict(X_train)\n",
    "RMSE_poly=np.sqrt(np.sum(np.square(y_poly-y_train)))\n",
    "print(\"Root-mean-square error of simple polynomial model:\",RMSE_poly)\n",
    "\n",
    "\n",
    "coeff_poly = pd.DataFrame(model_poly.coef_,index=df_poly.drop('y',axis=1).columns, \n",
    "                          columns=['Coefficients polynomial model'])\n",
    "coeff_poly\n",
    "\n",
    "print (\"R2 value of simple polynomial model:\",model_poly.score(X_train,y_train))\n"
   ]
  },
  {
   "cell_type": "code",
   "execution_count": null,
   "metadata": {},
   "outputs": [],
   "source": [
    "# %% Metamodel (Optislang style :) - polynomial model with cross-validation and LASSO regularization\n",
    "\n",
    "from sklearn.linear_model import LassoCV\n",
    "\n",
    "\n",
    "model1 = LassoCV(cv=10,verbose=0,normalize=True,eps=0.001,n_alphas=100, tol=0.0001,max_iter=100000)\n",
    "\n",
    "\n",
    "model1.fit(X_train,y_train)\n",
    "\n",
    "y_pred1 = np.array(model1.predict(X_train))\n",
    "\n",
    "y_find = np.array(model1.predict(x_find))\n",
    "\n",
    "RMSE_1=np.sqrt(np.sum(np.square(y_pred1-y_train)))\n",
    "print(\"Root-mean-square error of Metamodel:\",RMSE_1)\n",
    "\n",
    "\n",
    "coeff1 = pd.DataFrame(model1.coef_,index=df_poly.drop('y',axis=1).columns, columns=['Coefficients Metamodel'])\n",
    "\n",
    "coeff1[coeff1['Coefficients Metamodel']!=0]"
   ]
  }
 ],
 "metadata": {
  "kernelspec": {
   "display_name": "Python 3",
   "language": "python",
   "name": "python3"
  },
  "language_info": {
   "codemirror_mode": {
    "name": "ipython",
    "version": 3
   },
   "file_extension": ".py",
   "mimetype": "text/x-python",
   "name": "python",
   "nbconvert_exporter": "python",
   "pygments_lexer": "ipython3",
   "version": "3.7.0"
  }
 },
 "nbformat": 4,
 "nbformat_minor": 2
}
